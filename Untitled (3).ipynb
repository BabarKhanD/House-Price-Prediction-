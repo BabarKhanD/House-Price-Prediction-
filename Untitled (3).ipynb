{
  "metadata": {
    "kernelspec": {
      "name": "xpython",
      "display_name": "Python 3.13 (XPython)",
      "language": "python"
    },
    "language_info": {
      "file_extension": ".py",
      "mimetype": "text/x-python",
      "name": "python",
      "version": "3.13.1"
    }
  },
  "nbformat_minor": 5,
  "nbformat": 4,
  "cells": [
    {
      "id": "146bec75-81de-448f-81da-82584b4a1b2e",
      "cell_type": "code",
      "source": "# House Price Prediction\n\n# Objective:\n# Predict house prices using features like area, bedrooms, bathrooms, location, etc.\n# We'll use both Linear Regression and Gradient Boosting Regressor and evaluate using MAE and RMSE.\n",
      "metadata": {
        "trusted": true
      },
      "outputs": [],
      "execution_count": null
    },
    {
      "id": "f5d3f0f8-d245-42e2-99aa-a47b1dfb4854",
      "cell_type": "code",
      "source": "# Import necessary libraries\nimport pandas as pd\nimport numpy as np\nimport matplotlib.pyplot as plt\n\nfrom sklearn.model_selection import train_test_split\nfrom sklearn.preprocessing import LabelEncoder\nfrom sklearn.linear_model import LinearRegression\nfrom sklearn.ensemble import GradientBoostingRegressor\nfrom sklearn.metrics import mean_absolute_error, mean_squared_error\n",
      "metadata": {
        "trusted": true
      },
      "outputs": [],
      "execution_count": null
    },
    {
      "id": "4d0be05e-902d-42ce-aeac-beaff16fc1b8",
      "cell_type": "code",
      "source": "# Load the dataset\ndf = pd.read_csv('Housing.csv')  # Ensure Housing.csv is in the same directory\ndf.head()\n",
      "metadata": {
        "trusted": true
      },
      "outputs": [],
      "execution_count": null
    },
    {
      "id": "eb08c2d4-fcca-4985-b96b-d50d2d106ac8",
      "cell_type": "code",
      "source": "# Encode categorical features using LabelEncoder\ncategorical_cols = ['mainroad', 'guestroom', 'basement', 'hotwaterheating', \n                    'airconditioning', 'prefarea', 'furnishingstatus']\n\nle = LabelEncoder()\nfor col in categorical_cols:\n    df[col] = le.fit_transform(df[col])\n\n# Separate features and target\nX = df.drop('price', axis=1)\ny = df['price']\n",
      "metadata": {
        "trusted": true
      },
      "outputs": [],
      "execution_count": null
    },
    {
      "id": "6c05249a-b150-46d4-821c-0cbb160dc0c3",
      "cell_type": "code",
      "source": "# Split into training and testing sets\nX_train, X_test, y_train, y_test = train_test_split(X, y, test_size=0.2, random_state=42)\n",
      "metadata": {
        "trusted": true
      },
      "outputs": [],
      "execution_count": null
    },
    {
      "id": "babd2167-2a42-48f0-9fd8-31a4fd1c08b8",
      "cell_type": "code",
      "source": "# Train Linear Regression model\nlr_model = LinearRegression()\nlr_model.fit(X_train, y_train)\nlr_preds = lr_model.predict(X_test)\n",
      "metadata": {
        "trusted": true
      },
      "outputs": [],
      "execution_count": null
    },
    {
      "id": "018b0f7b-f119-4631-b3ad-62990e770a63",
      "cell_type": "code",
      "source": "# Train Gradient Boosting Regressor\ngb_model = GradientBoostingRegressor()\ngb_model.fit(X_train, y_train)\ngb_preds = gb_model.predict(X_test)\n",
      "metadata": {
        "trusted": true
      },
      "outputs": [],
      "execution_count": null
    },
    {
      "id": "81a92ed2-e795-4b91-a880-c38543ff5a87",
      "cell_type": "code",
      "source": "# Define evaluation function\ndef evaluate(y_true, y_pred, model_name):\n    mae = mean_absolute_error(y_true, y_pred)\n    rmse = np.sqrt(mean_squared_error(y_true, y_pred))\n    print(f\"{model_name} - MAE: {mae:.2f}, RMSE: {rmse:.2f}\")\n\n# Evaluate both models\nevaluate(y_test, lr_preds, \"Linear Regression\")\nevaluate(y_test, gb_preds, \"Gradient Boosting\")\n",
      "metadata": {
        "trusted": true
      },
      "outputs": [],
      "execution_count": null
    },
    {
      "id": "2b8d1312-23d4-480f-996a-2ebef531417c",
      "cell_type": "code",
      "source": "# Line Plot: Actual vs Predicted\nplt.figure(figsize=(10,5))\nplt.plot(y_test.values, label=\"Actual Prices\", marker='o')\nplt.plot(gb_preds, label=\"Predicted Prices (GB)\", marker='x')\nplt.title(\"Actual vs Predicted House Prices\")\nplt.xlabel(\"Sample Index\")\nplt.ylabel(\"Price\")\nplt.legend()\nplt.grid(True)\nplt.tight_layout()\nplt.show()\n",
      "metadata": {
        "trusted": true
      },
      "outputs": [],
      "execution_count": null
    },
    {
      "id": "607af53b-e1b2-45a8-824e-3cf1c4487464",
      "cell_type": "code",
      "source": "# Scatter Plot: Actual vs Predicted\nplt.figure(figsize=(7, 5))\nplt.scatter(y_test, gb_preds, alpha=0.6, color='green')\nplt.plot([y_test.min(), y_test.max()], [y_test.min(), y_test.max()], 'r--')  # Reference line\nplt.xlabel(\"Actual Price\")\nplt.ylabel(\"Predicted Price\")\nplt.title(\"Actual vs Predicted (Scatter Plot)\")\nplt.grid(True)\nplt.tight_layout()\nplt.show()\n",
      "metadata": {
        "trusted": true
      },
      "outputs": [],
      "execution_count": null
    },
    {
      "id": "cd16c824-ebcf-4ef2-a971-2ccdfb616ad7",
      "cell_type": "code",
      "source": "# Bar Plot: First 20 Samples\nplt.figure(figsize=(12, 6))\nindices = range(20)\nplt.bar(indices, y_test.values[:20], width=0.4, label='Actual', align='center')\nplt.bar([i + 0.4 for i in indices], gb_preds[:20], width=0.4, label='Predicted', align='center')\nplt.xlabel(\"Sample Index\")\nplt.ylabel(\"Price\")\nplt.title(\"Actual vs Predicted Prices (First 20 Samples)\")\nplt.legend()\nplt.tight_layout()\nplt.show()\n",
      "metadata": {
        "trusted": true
      },
      "outputs": [],
      "execution_count": null
    },
    {
      "id": "64bc3428-09d2-4b24-8b50-2255bac2917d",
      "cell_type": "code",
      "source": "# Sorted Line Plot\nsorted_idx = y_test.argsort()\nsorted_actual = y_test.values[sorted_idx]\nsorted_pred = gb_preds[sorted_idx]\n\nplt.figure(figsize=(10, 5))\nplt.plot(sorted_actual, label='Actual', marker='o')\nplt.plot(sorted_pred, label='Predicted', marker='x')\nplt.title(\"Sorted Actual vs Predicted Prices\")\nplt.xlabel(\"Sample Index (sorted)\")\nplt.ylabel(\"Price\")\nplt.legend()\nplt.grid(True)\nplt.tight_layout()\nplt.show()\n",
      "metadata": {
        "trusted": true
      },
      "outputs": [],
      "execution_count": null
    }
  ]
}